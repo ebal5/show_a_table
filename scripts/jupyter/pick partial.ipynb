{
 "cells": [
  {
   "cell_type": "code",
   "execution_count": 7,
   "metadata": {},
   "outputs": [],
   "source": [
    "import json\n",
    "lfn = \"/home/ebal/Data/wikipedia/shinra2019/JP-5/LIST/Company_train.dat\"\n",
    "wfn = \"/home/ebal/Data/wikipedia/shinra2019/JP-5/EXTRACTED/Company_test.json\"\n",
    "ofn = \"/home/ebal/Data/wikipedia/shinra2019/JP-5/EXTRACTED/Company_train.json\"\n",
    "with open(lfn) as f:\n",
    "    ids = {l for l in f.read().splitlines()}\n",
    "with open(wfn) as f, open(ofn, \"w\") as of:\n",
    "    for line in f:\n",
    "        obj = json.loads(line)\n",
    "        if obj[\"page_id\"] not in ids:\n",
    "            continue\n",
    "        of.write(json.dumps(obj))\n",
    "        of.write(\"\\n\")"
   ]
  },
  {
   "cell_type": "code",
   "execution_count": null,
   "metadata": {},
   "outputs": [],
   "source": []
  }
 ],
 "metadata": {
  "kernelspec": {
   "display_name": "Python 3",
   "language": "python",
   "name": "python3"
  },
  "language_info": {
   "codemirror_mode": {
    "name": "ipython",
    "version": 3
   },
   "file_extension": ".py",
   "mimetype": "text/x-python",
   "name": "python",
   "nbconvert_exporter": "python",
   "pygments_lexer": "ipython3",
   "version": "3.6.10"
  }
 },
 "nbformat": 4,
 "nbformat_minor": 4
}

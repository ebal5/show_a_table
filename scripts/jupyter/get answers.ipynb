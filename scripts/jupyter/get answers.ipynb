{
 "cells": [
  {
   "cell_type": "code",
   "execution_count": 1,
   "metadata": {},
   "outputs": [],
   "source": [
    "import json\n",
    "import re\n",
    "from pprint import pprint as pp\n",
    "from typing import Set, List, Dict, NamedTuple"
   ]
  },
  {
   "cell_type": "code",
   "execution_count": 2,
   "metadata": {},
   "outputs": [],
   "source": [
    "class Page(NamedTuple):\n",
    "    pid: int\n",
    "    title: str\n",
    "class Entry(NamedTuple):\n",
    "    page: Page\n",
    "    attr: str\n",
    "    text: str"
   ]
  },
  {
   "cell_type": "code",
   "execution_count": 12,
   "metadata": {},
   "outputs": [],
   "source": [
    "fn = \"/home/ebal/Data/wikipedia/shinra2019/JP-5/annotation/Company_dist.json\"\n",
    "entries = []\n",
    "with open(fn) as f:\n",
    "    for line in f:\n",
    "        data = json.loads(line)\n",
    "        entries.append(Entry(Page(int(data[\"page_id\"]), data[\"title\"]), data[\"attribute\"], data[\"text_offset\"][\"text\"]))\n",
    "allpages = {entry.page for entry in entries}\n",
    "fn = \"/home/ebal/Data/wikipedia/shinra2019/JP-5/EXTRACTED/Company_train.json\"\n",
    "myentries = []\n",
    "with open(fn) as f:\n",
    "    reg = re.compile(r\"<[^>]*?>\")\n",
    "    for line in f:\n",
    "        data = json.loads(line)\n",
    "        myentries.append(Entry(Page(int(data[\"page_id\"]), data[\"title\"]), data[\"attribute\"], reg.sub(\"\", data[\"html_offset\"][\"text\"])))"
   ]
  },
  {
   "cell_type": "code",
   "execution_count": 13,
   "metadata": {},
   "outputs": [],
   "source": [
    "def searchr(reg: str, attr: str, pages: Set[Page], entries: Set[Entry]) -> Set[Page]:\n",
    "    reg = re.compile(reg)\n",
    "    return {et.page for et in entries if et.page in pages and et.attr == attr and reg.match(et.text)}\n",
    "def searchf(fun, attr: str, pages: Set[Page], entries: Set[Entry]) -> Set[Page]:\n",
    "    return {et.page for et in entries if et.page in pages and et.attr == attr and fun(et.text)}"
   ]
  },
  {
   "cell_type": "code",
   "execution_count": 14,
   "metadata": {},
   "outputs": [
    {
     "name": "stderr",
     "output_type": "stream",
     "text": [
      "Cannot parse as date ')9月22日' by '%-E%-kO年%m月%d日'\n"
     ]
    }
   ],
   "source": [
    "tokyo = searchr(r\"東京都?\", \"本拠地\", allpages, entries)\n",
    "ltd = searchr(r\"株式(会社)?\", \"種類\", tokyo, entries)\n",
    "\n",
    "from show_a_table.model.refiner import date\n",
    "f1996t2020 = date.DateRangeRefiner(\"設立年\")\n",
    "f1996t2020._start = \"1996-*-*\"\n",
    "f1996t2020._end = \"2030-*-*\"\n",
    "exam = f1996t2020._mk_exam()\n",
    "\n",
    "ans = searchf(exam, \"設立年\", ltd, entries)"
   ]
  },
  {
   "cell_type": "code",
   "execution_count": 15,
   "metadata": {},
   "outputs": [],
   "source": [
    "tokyo = searchr(r\"東京都?\", \"本拠地\", allpages, myentries)\n",
    "ltd = searchr(r\"株式(会社)?\", \"種類\", tokyo, myentries)\n",
    "myans = searchf(exam, \"設立年\", ltd, entries)"
   ]
  },
  {
   "cell_type": "code",
   "execution_count": 16,
   "metadata": {},
   "outputs": [
    {
     "data": {
      "text/plain": [
       "{Page(pid=44308, title='近代映画社'),\n",
       " Page(pid=728612, title='ぷれっそホールディングス'),\n",
       " Page(pid=1423956, title='ジャパンケアサービス')}"
      ]
     },
     "execution_count": 16,
     "metadata": {},
     "output_type": "execute_result"
    }
   ],
   "source": [
    "myans"
   ]
  },
  {
   "cell_type": "code",
   "execution_count": 10,
   "metadata": {},
   "outputs": [
    {
     "data": {
      "text/plain": [
       "{Page(pid=44308, title='近代映画社'),\n",
       " Page(pid=47515, title='BSフジ'),\n",
       " Page(pid=54730, title='BSジャパン'),\n",
       " Page(pid=54734, title='BS日本'),\n",
       " Page(pid=58506, title='ニトロプラス'),\n",
       " Page(pid=66781, title='アサヒビール'),\n",
       " Page(pid=102896, title='日本ミルクコミュニティ'),\n",
       " Page(pid=116106, title='ユーシーカード'),\n",
       " Page(pid=169693, title='アステラス製薬'),\n",
       " Page(pid=170172, title='1-UPスタジオ'),\n",
       " Page(pid=170238, title='アニメインターナショナルカンパニー'),\n",
       " Page(pid=184198, title='資産管理サービス信託銀行'),\n",
       " Page(pid=223719, title='東急ホテルズ'),\n",
       " Page(pid=314597, title='日立オムロンターミナルソリューションズ'),\n",
       " Page(pid=314872, title='JTBパブリッシング'),\n",
       " Page(pid=316692, title='OKWAVE'),\n",
       " Page(pid=326320, title='三菱樹脂'),\n",
       " Page(pid=377893, title='テクノプロ・ホールディングス'),\n",
       " Page(pid=386937, title='AGスクエア'),\n",
       " Page(pid=402627, title='エリコネイル'),\n",
       " Page(pid=417056, title='ローソン・エイティエム・ネットワークス'),\n",
       " Page(pid=463109, title='アイライン_(企業)'),\n",
       " Page(pid=464945, title='LINE_Business_Partners'),\n",
       " Page(pid=586543, title='AQインタラクティブ'),\n",
       " Page(pid=594415, title='サイバーステップ'),\n",
       " Page(pid=707807, title='中日本エクシス'),\n",
       " Page(pid=714879, title='ソフマップ'),\n",
       " Page(pid=728612, title='ぷれっそホールディングス'),\n",
       " Page(pid=735482, title='エー・シー・ジー・ティー'),\n",
       " Page(pid=842318, title='日立コンサルティング'),\n",
       " Page(pid=853842, title='アイムーヴ'),\n",
       " Page(pid=864236, title='アクトビラ_(企業)'),\n",
       " Page(pid=930813, title='ポイント_(企業)'),\n",
       " Page(pid=937961, title='ディー・エル・イー'),\n",
       " Page(pid=954048, title='イーネット・フロンティア'),\n",
       " Page(pid=956001, title='ケーテン_(企業)'),\n",
       " Page(pid=959740, title='日テレ・テクニカル・リソーシズ'),\n",
       " Page(pid=1013970, title='ヤマハミュージックエンタテインメントホールディングス'),\n",
       " Page(pid=1036202, title='ジョイマン'),\n",
       " Page(pid=1050460, title='NSSLCサービス'),\n",
       " Page(pid=1052376, title='アジア・ダイナミック・コミュニケーションズ'),\n",
       " Page(pid=1063684, title='ユナイテッド_(インターネット企業)'),\n",
       " Page(pid=1063840, title='Eストアー'),\n",
       " Page(pid=1063882, title='セレブリックス'),\n",
       " Page(pid=1068528, title='インフォレスト'),\n",
       " Page(pid=1076824, title='ミクシィ'),\n",
       " Page(pid=1191431, title='デジタルネットワークアニメーション'),\n",
       " Page(pid=1198625, title='川商フーズ'),\n",
       " Page(pid=1201258, title='コネクシオ'),\n",
       " Page(pid=1220056, title='エイジ_(企業)'),\n",
       " Page(pid=1258825, title='ノイジークローク'),\n",
       " Page(pid=1269794, title='ネクステップ'),\n",
       " Page(pid=1298017, title='六本木フェローズ'),\n",
       " Page(pid=1407527, title='アイ・エイチ・アイ_マリンユナイテッド'),\n",
       " Page(pid=1423161, title='日本デジコム'),\n",
       " Page(pid=1423956, title='ジャパンケアサービス'),\n",
       " Page(pid=1442760, title='エイ・ワン・シー'),\n",
       " Page(pid=1476165, title='高速道路総合技術研究所'),\n",
       " Page(pid=1529318, title='NECスペーステクノロジー'),\n",
       " Page(pid=1542195, title='富士電機ITソリューション'),\n",
       " Page(pid=1542403, title='フルキャスト_(人材派遣会社)'),\n",
       " Page(pid=1608061, title='カカクコム'),\n",
       " Page(pid=1683348, title='スキップ_(ゲーム会社)'),\n",
       " Page(pid=1725627, title='ビートニクス_(企業)'),\n",
       " Page(pid=1728696, title='コムシス情報システム'),\n",
       " Page(pid=1730838, title='ジーユー'),\n",
       " Page(pid=1751047, title='アクサジャパンホールディング'),\n",
       " Page(pid=1773927, title='シーツー_(企業)'),\n",
       " Page(pid=1780493, title='レコチョク'),\n",
       " Page(pid=1891974, title='日清フーズ'),\n",
       " Page(pid=1898287, title='角川大映スタジオ'),\n",
       " Page(pid=1910707, title='サードウェーブエクスチェンジ'),\n",
       " Page(pid=1943333, title='セキュアブレイン'),\n",
       " Page(pid=1954548, title='サミーネットワークス'),\n",
       " Page(pid=2084387, title='エム・クルー'),\n",
       " Page(pid=2121093, title='JFEスチール'),\n",
       " Page(pid=2127810, title='JX石油開発'),\n",
       " Page(pid=2136964, title='アイキュエス'),\n",
       " Page(pid=2219224, title='ニッセイアセットマネジメント'),\n",
       " Page(pid=2336411, title='オールクーポンジャパン'),\n",
       " Page(pid=2365630, title='エスユー'),\n",
       " Page(pid=2390142, title='NEC_Avio赤外線テクノロジー'),\n",
       " Page(pid=2488385, title='キッズネット_(企業)'),\n",
       " Page(pid=2489062, title='ゼファー_(発電機メーカー)'),\n",
       " Page(pid=2511323, title='IBJL東芝リース'),\n",
       " Page(pid=2579902, title='第一生命情報システム'),\n",
       " Page(pid=2667414, title='SPOTTED_PRODUCTIONS'),\n",
       " Page(pid=2687697, title='エクソル'),\n",
       " Page(pid=2701845, title='オーバーラップ_(企業)'),\n",
       " Page(pid=2740038, title='ティームエンタテインメント'),\n",
       " Page(pid=2748379, title='ウォーターダイレクト'),\n",
       " Page(pid=2914722, title='ウィゴー'),\n",
       " Page(pid=2921512, title='リバネス'),\n",
       " Page(pid=3056961, title='トーンモバイル'),\n",
       " Page(pid=3068772, title='サイブリッジ'),\n",
       " Page(pid=3069936, title='3Hz'),\n",
       " Page(pid=3440765, title='まさめや'),\n",
       " Page(pid=3456324, title='EGG_FIRM'),\n",
       " Page(pid=3496896, title='D.A.コンソーシアムホールディングス'),\n",
       " Page(pid=3518904, title='エイペックス_(企業)'),\n",
       " Page(pid=3528589, title='大成建設ハウジング'),\n",
       " Page(pid=3587547, title='JOCDN'),\n",
       " Page(pid=3589063, title='三菱ケミカル')}"
      ]
     },
     "execution_count": 10,
     "metadata": {},
     "output_type": "execute_result"
    }
   ],
   "source": [
    "ans"
   ]
  },
  {
   "cell_type": "code",
   "execution_count": null,
   "metadata": {},
   "outputs": [],
   "source": []
  }
 ],
 "metadata": {
  "kernelspec": {
   "display_name": "Python 3",
   "language": "python",
   "name": "python3"
  },
  "language_info": {
   "codemirror_mode": {
    "name": "ipython",
    "version": 3
   },
   "file_extension": ".py",
   "mimetype": "text/x-python",
   "name": "python",
   "nbconvert_exporter": "python",
   "pygments_lexer": "ipython3",
   "version": "3.6.10"
  }
 },
 "nbformat": 4,
 "nbformat_minor": 4
}
